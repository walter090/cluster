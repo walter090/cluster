{
 "cells": [
  {
   "cell_type": "code",
   "execution_count": 1,
   "metadata": {
    "collapsed": true
   },
   "outputs": [],
   "source": [
    "from knn import KNNClassifier\n",
    "\n",
    "k = KNNClassifier(k=3)\n",
    "k.score()"
   ]
  },
  {
   "cell_type": "code",
   "execution_count": 3,
   "metadata": {
    "collapsed": true
   },
   "outputs": [
    {
     "data": {
      "text/plain": [
       "['the',\n 'long',\n 'and',\n 'illustrious',\n 'career',\n 'of',\n 'robin',\n 'williams',\n 'which',\n 'has',\n 'included',\n 'both',\n 'forgettable',\n 'turns',\n 'like',\n 'mrs',\n 'doubtfire',\n 'and',\n 'flubber',\n 'was',\n 'punctuated',\n 'with',\n 'the',\n 'actor',\n 's',\n 'first',\n 'academy',\n 'award',\n 'in',\n '1998',\n 'for',\n 'his',\n 'role',\n 'in',\n 'good',\n 'will',\n 'hunting',\n 'it',\n 'was',\n 'his',\n 'first',\n 'truly',\n 'dramatic',\n 'role',\n 'since',\n '1989',\n 's',\n 'dead',\n 'poets',\n 'society',\n 'and',\n 'critical',\n 'remarks',\n 'were',\n 'unanimously',\n 'positive',\n 'his',\n 'next',\n 'role',\n 'that',\n 'of',\n 'a',\n 'deceased',\n 'pediatrician',\n 'in',\n 'what',\n 'dreams',\n 'may',\n 'come',\n 'was',\n 'unfortunately',\n 'lackluster',\n 'and',\n 'so',\n 'after',\n 'a',\n 'six',\n 'year',\n 'stint',\n 'as',\n 'a',\n 'comedic',\n 'actor',\n 'the',\n 'proof',\n 'on',\n 'whether',\n 'or',\n 'not',\n 'williams',\n 'can',\n 'cut',\n 'it',\n 'in',\n 'the',\n 'dramatic',\n 'league',\n 'has',\n 'come',\n 'down',\n 'to',\n 'patch',\n 'adams',\n 'williams',\n 'is',\n 'the',\n 'title',\n 'character',\n 'hunter',\n 'patch',\n 'adams',\n 'sporting',\n 'scruffy',\n 'facial',\n 'hair',\n 'that',\n 'falls',\n 'between',\n 'the',\n 'clean',\n 'shavenness',\n 'of',\n 'dreams',\n 'and',\n 'the',\n 'grotesque',\n 'hairiness',\n 'of',\n 'will',\n 'hunting',\n 'we',\n 're',\n 'introduced',\n 'to',\n 'patch',\n 'as',\n 'he',\n 'commits',\n 'himself',\n 'to',\n 'a',\n 'mental',\n 'institution',\n 'because',\n 'of',\n 'his',\n 'suicidal',\n 'tendancies',\n 'it',\n 's',\n 'at',\n 'the',\n 'institution',\n 'however',\n 'that',\n 'he',\n 'discovers',\n 'a',\n 'latent',\n 'talent',\n 'for',\n 'relating',\n 'to',\n 'people',\n 'he',\n 'removes',\n 'himself',\n 'from',\n 'the',\n 'institution',\n 'and',\n 'enrolls',\n 'at',\n 'the',\n 'university',\n 'of',\n 'virginia',\n 's',\n 'medical',\n 'college',\n 'where',\n 'he',\n 'finds',\n 'that',\n 'medical',\n 'doctrine',\n 'is',\n 'a',\n 'calculating',\n 'impersonal',\n 'trade',\n 'his',\n 'attempts',\n 'to',\n 'inject',\n 'humanity',\n 'into',\n 'the',\n 'profession',\n 'result',\n 'in',\n 'several',\n 'bouts',\n 'with',\n 'expulsion',\n 'and',\n 'the',\n 'movie',\n 'climaxes',\n 'with',\n 'patch',\n 's',\n 'appearance',\n 'before',\n 'the',\n 'state',\n 'medical',\n 'board',\n 'the',\n 'characters',\n 'are',\n 'well',\n 'defined',\n 'in',\n 'an',\n 'oscar',\n 'worthy',\n 'sense',\n 'although',\n 'the',\n 'script',\n 'does',\n 'not',\n 'perform',\n 'well',\n 'as',\n 'a',\n 'narrative',\n 'there',\n 's',\n 'little',\n 'story',\n 'to',\n 'be',\n 'told',\n 'outside',\n 'of',\n 'patch',\n 's',\n 'skit',\n 'length',\n 'experiences',\n 'the',\n 'script',\n 'does',\n 'go',\n 'a',\n 'long',\n 'way',\n 'toward',\n 'building',\n 'the',\n 'relationships',\n 'of',\n 'characters',\n 'at',\n 'medical',\n 'school',\n 'patch',\n 'meets',\n 'up',\n 'with',\n 'truman',\n 'schiff',\n 'daniel',\n 'london',\n 'an',\n 'outsider',\n 'like',\n 'himself',\n 'who',\n 'relishes',\n 'patch',\n 's',\n 'zest',\n 'for',\n 'humanity',\n 'the',\n 'two',\n 'instantly',\n 'become',\n 'the',\n 'best',\n 'of',\n 'friends',\n 'and',\n 'it',\n 's',\n 'easy',\n 'to',\n 'see',\n 'why',\n 'monica',\n 'potter',\n 'plays',\n 'patch',\n 's',\n 'love',\n 'interest',\n 'a',\n 'young',\n 'woman',\n 'who',\n 'personifies',\n 'the',\n 'things',\n 'that',\n 'patch',\n 'hates',\n 'about',\n 'medical',\n 'school',\n 'for',\n 'some',\n 'reason',\n 'he',\n 's',\n 'attracted',\n 'to',\n 'her',\n 'and',\n 'although',\n 'it',\n 'never',\n 'gets',\n 'said',\n 'the',\n 'audience',\n 'understands',\n 'from',\n 'an',\n 'intrinsic',\n 'point',\n 'of',\n 'view',\n 'the',\n 'script',\n 'based',\n 'on',\n 'hunter',\n 'adams',\n 'own',\n 'story',\n 'works',\n 'well',\n 'this',\n 'way',\n 'the',\n 'rest',\n 'of',\n 'the',\n 'cast',\n 'bob',\n 'gunton',\n 'as',\n 'the',\n 'villain',\n 'professor',\n 'in',\n 'particular',\n 'is',\n 'solid',\n 'director',\n 'tom',\n 'shadyac',\n 'liar',\n 'liar',\n 'leads',\n 'us',\n 'in',\n 'and',\n 'out',\n 'of',\n 'patch',\n 's',\n 'life',\n 'in',\n 'a',\n 'sound',\n 'intentional',\n 'manner',\n 'combined',\n 'with',\n 'williams',\n 'presence',\n 'on',\n 'screen',\n 'the',\n 'movie',\n 'rarely',\n 'becomes',\n 'boring',\n 'patch',\n 'adams',\n 'lack',\n 'of',\n 'purpose',\n 'is',\n 'its',\n 'major',\n 'shortcoming',\n 'and',\n 'for',\n 'the',\n 'first',\n 'ninety',\n 'minutes',\n 'out',\n 'of',\n 'two',\n 'hours',\n 'there',\n 's',\n 'little',\n 'feeling',\n 'of',\n 'continuity',\n 'or',\n 'the',\n 'passage',\n 'of',\n 'time',\n 'nevertheless',\n 'it',\n 's',\n 'an',\n 'emotionally',\n 'moving',\n 'picture',\n 'and',\n 'patch',\n 'adams',\n 'looks',\n 'to',\n 'be',\n 'one',\n 'of',\n 'the',\n 'more',\n 'memorable',\n 'of',\n 'the',\n 'holiday',\n 'season',\n 'it',\n 'succeeds',\n 'at',\n 'everything',\n 'it',\n 'tries',\n 'and',\n 'only',\n 'fails',\n 'at',\n 'the',\n 'stuff',\n 'it',\n 'doesn',\n 't',\n 'try',\n 'in',\n 'the',\n 'first',\n 'place',\n 'by',\n 'and',\n 'large',\n 'there',\n 'may',\n 'be',\n 'another',\n 'oscar',\n 'nomination',\n 'herein',\n 'for',\n 'williams',\n 'but',\n 'more',\n 'importantly',\n 'it',\n 's',\n 'entertainment',\n 'for',\n 'the',\n 'entire',\n 'family']"
      ]
     },
     "execution_count": 3,
     "metadata": {},
     "output_type": "execute_result"
    }
   ],
   "source": [
    "k = KNNClassifier(k=1)\n",
    "k.score()"
   ]
  },
  {
   "cell_type": "code",
   "execution_count": null,
   "metadata": {},
   "outputs": [],
   "source": [
    "k = KNNClassifier(k=2)\n",
    "k.score()"
   ]
  }
 ],
 "metadata": {
  "kernelspec": {
   "display_name": "Python 2",
   "language": "python",
   "name": "python2"
  },
  "language_info": {
   "codemirror_mode": {
    "name": "ipython",
    "version": 2.0
   },
   "file_extension": ".py",
   "mimetype": "text/x-python",
   "name": "python",
   "nbconvert_exporter": "python",
   "pygments_lexer": "ipython2",
   "version": "2.7.6"
  }
 },
 "nbformat": 4,
 "nbformat_minor": 0
}