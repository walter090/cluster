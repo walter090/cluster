{
 "cells": [
  {
   "cell_type": "code",
   "execution_count": 1,
   "metadata": {
    "collapsed": false,
    "deletable": true,
    "editable": true
   },
   "outputs": [
    {
     "name": "stdout",
     "output_type": "stream",
     "text": [
      "accuracy 0.6261261261261262\n",
      "accuracy 0.6306306306306306\n",
      "accuracy 0.6261261261261262\n",
      "accuracy 0.5\n",
      "in 3 cv tests, accuracies are [0.6261261261261262, 0.6306306306306306, 0.6261261261261262, 0.5]\n",
      "mean accracy 0.5957207207207207\n"
     ]
    },
    {
     "data": {
      "text/plain": [
       "0.59572072072072069"
      ]
     },
     "execution_count": 1,
     "metadata": {},
     "output_type": "execute_result"
    }
   ],
   "source": [
    "from knn import KNNClassifier\n",
    "from ncc import NearestCentroidClassifier\n",
    "\n",
    "k = KNNClassifier(k=5, distance='manhattan')\n",
    "k.score(n=3)"
   ]
  },
  {
   "cell_type": "code",
   "execution_count": null,
   "metadata": {
    "collapsed": false,
    "deletable": true,
    "editable": true
   },
   "outputs": [
    {
     "name": "stdout",
     "output_type": "stream",
     "text": [
      "accuracy 0.5795795795795796\n",
      "accuracy 0.6156156156156156\n",
      "accuracy 0.566066066066066\n",
      "accuracy 1.0\n",
      "in 3 cv tests, accuracies are [0.6261261261261262, 0.6306306306306306, 0.6261261261261262, 0.5, 0.5795795795795796, 0.6156156156156156, 0.566066066066066, 1.0]\n",
      "mean accracy 0.6430180180180181\n"
     ]
    },
    {
     "data": {
      "text/plain": [
       "0.64301801801801806"
      ]
     },
     "execution_count": 2,
     "metadata": {},
     "output_type": "execute_result"
    }
   ],
   "source": [
    "k = KNNClassifier(k=1)\n",
    "k.score(n=3)"
   ]
  },
  {
   "cell_type": "code",
   "execution_count": null,
   "metadata": {
    "collapsed": true,
    "deletable": true,
    "editable": true
   },
   "outputs": [],
   "source": [
    "k = KNNClassifier(k=2)\n",
    "k.score(n=3)\n",
    "\n",
    "k = KNNClassifier(k=4)\n",
    "k.score(n=3)"
   ]
  },
  {
   "cell_type": "code",
   "execution_count": null,
   "metadata": {
    "collapsed": false,
    "deletable": true,
    "editable": true
   },
   "outputs": [],
   "source": [
    "for k in range(1, 6):\n",
    "    clf = NearestCentroidClassifier(k=k)\n",
    "    clf.score(n=3)"
   ]
  },
  {
   "cell_type": "code",
   "execution_count": null,
   "metadata": {
    "collapsed": true,
    "deletable": true,
    "editable": true
   },
   "outputs": [],
   "source": [
    ""
   ]
  }
 ],
 "metadata": {
  "kernelspec": {
   "display_name": "Python3(tensorflow)",
   "language": "python",
   "name": "python3"
  }
 },
 "nbformat": 4,
 "nbformat_minor": 0
}