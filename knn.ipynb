{
 "cells": [
  {
   "cell_type": "code",
   "execution_count": 1,
   "metadata": {
    "collapsed": true
   },
   "outputs": [],
   "source": [
    "import k_nearest_neighbor\n",
    "\n",
    "s = k_nearest_neighbor.preprocess('data/pos')"
   ]
  },
  {
   "cell_type": "code",
   "execution_count": 2,
   "metadata": {},
   "outputs": [
    {
     "data": {
      "text/plain": [
       "['long',\n 'illustrious',\n 'career',\n 'robin',\n 'williams',\n 'included',\n 'forgettable',\n 'turns',\n 'like',\n 'mrs',\n 'doubtfire',\n 'flubber',\n 'punctuated',\n 'actor',\n 'first',\n 'academy',\n 'award',\n '1998',\n 'role',\n 'good',\n 'hunting',\n 'first',\n 'truly',\n 'dramatic',\n 'role',\n 'since',\n '1989',\n 'dead',\n 'poets',\n 'society',\n 'critical',\n 'remarks',\n 'unanimously',\n 'positive',\n 'next',\n 'role',\n 'deceased',\n 'pediatrician',\n 'dreams',\n 'may',\n 'come',\n 'unfortunately',\n 'lackluster',\n 'six',\n 'year',\n 'stint',\n 'comedic',\n 'actor',\n 'proof',\n 'whether',\n 'williams',\n 'cut',\n 'dramatic',\n 'league',\n 'come',\n 'patch',\n 'adams',\n 'williams',\n 'title',\n 'character',\n 'hunter',\n 'patch',\n 'adams',\n 'sporting',\n 'scruffy',\n 'facial',\n 'hair',\n 'falls',\n 'clean',\n 'shavenness',\n 'dreams',\n 'grotesque',\n 'hairiness',\n 'hunting',\n 'introduced',\n 'patch',\n 'commits',\n 'mental',\n 'institution',\n 'suicidal',\n 'tendancies',\n 'institution',\n 'however',\n 'discovers',\n 'latent',\n 'talent',\n 'relating',\n 'people',\n 'removes',\n 'institution',\n 'enrolls',\n 'university',\n 'virginia',\n 'medical',\n 'college',\n 'finds',\n 'medical',\n 'doctrine',\n 'calculating',\n 'impersonal',\n 'trade',\n 'attempts',\n 'inject',\n 'humanity',\n 'profession',\n 'result',\n 'several',\n 'bouts',\n 'expulsion',\n 'movie',\n 'climaxes',\n 'patch',\n 'appearance',\n 'state',\n 'medical',\n 'board',\n 'characters',\n 'well',\n 'defined',\n 'oscar',\n 'worthy',\n 'sense',\n 'although',\n 'script',\n 'perform',\n 'well',\n 'narrative',\n 'little',\n 'story',\n 'told',\n 'outside',\n 'patch',\n 'skit',\n 'length',\n 'experiences',\n 'script',\n 'go',\n 'long',\n 'way',\n 'toward',\n 'building',\n 'relationships',\n 'characters',\n 'medical',\n 'school',\n 'patch',\n 'meets',\n 'truman',\n 'schiff',\n 'daniel',\n 'london',\n 'outsider',\n 'like',\n 'relishes',\n 'patch',\n 'zest',\n 'humanity',\n 'two',\n 'instantly',\n 'become',\n 'best',\n 'friends',\n 'easy',\n 'see',\n 'monica',\n 'potter',\n 'plays',\n 'patch',\n 'love',\n 'interest',\n 'young',\n 'woman',\n 'personifies',\n 'things',\n 'patch',\n 'hates',\n 'medical',\n 'school',\n 'reason',\n 'attracted',\n 'although',\n 'never',\n 'gets',\n 'said',\n 'audience',\n 'understands',\n 'intrinsic',\n 'point',\n 'view',\n 'script',\n 'based',\n 'hunter',\n 'adams',\n 'story',\n 'works',\n 'well',\n 'way',\n 'rest',\n 'cast',\n 'bob',\n 'gunton',\n 'villain',\n 'professor',\n 'particular',\n 'solid',\n 'director',\n 'tom',\n 'shadyac',\n 'liar',\n 'liar',\n 'leads',\n 'us',\n 'patch',\n 'life',\n 'sound',\n 'intentional',\n 'manner',\n 'combined',\n 'williams',\n 'presence',\n 'screen',\n 'movie',\n 'rarely',\n 'becomes',\n 'boring',\n 'patch',\n 'adams',\n 'lack',\n 'purpose',\n 'major',\n 'shortcoming',\n 'first',\n 'ninety',\n 'minutes',\n 'two',\n 'hours',\n 'little',\n 'feeling',\n 'continuity',\n 'passage',\n 'time',\n 'nevertheless',\n 'emotionally',\n 'moving',\n 'picture',\n 'patch',\n 'adams',\n 'looks',\n 'one',\n 'memorable',\n 'holiday',\n 'season',\n 'succeeds',\n 'everything',\n 'tries',\n 'fails',\n 'stuff',\n 'try',\n 'first',\n 'place',\n 'large',\n 'may',\n 'another',\n 'oscar',\n 'nomination',\n 'herein',\n 'williams',\n 'importantly',\n 'entertainment',\n 'entire',\n 'family']"
      ]
     },
     "execution_count": 2,
     "metadata": {},
     "output_type": "execute_result"
    }
   ],
   "source": [
    "s[0]"
   ]
  },
  {
   "cell_type": "code",
   "execution_count": null,
   "metadata": {},
   "outputs": [],
   "source": [
    ""
   ]
  }
 ],
 "metadata": {
  "kernelspec": {
   "display_name": "Python 2",
   "language": "python",
   "name": "python2"
  },
  "language_info": {
   "codemirror_mode": {
    "name": "ipython",
    "version": 2.0
   },
   "file_extension": ".py",
   "mimetype": "text/x-python",
   "name": "python",
   "nbconvert_exporter": "python",
   "pygments_lexer": "ipython2",
   "version": "2.7.6"
  }
 },
 "nbformat": 4,
 "nbformat_minor": 0
}